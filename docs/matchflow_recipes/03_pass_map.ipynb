{
 "cells": [
  {
   "cell_type": "markdown",
   "id": "45ef0eb0",
   "metadata": {},
   "source": [
    "# 📍 Recipe: Drawing a Pass Map\n",
    "\n",
    "This example demonstrates how to visualize a player's passes using `Flow` to process StatsBomb data and `mplsoccer` to draw the pitch.\n",
    "\n",
    "## 🧰 What You’ll Learn\n",
    "\n",
    "- How to filter for completed passes\n",
    "- How to extract pass start and end locations\n",
    "- How to use `.assign()` to extract nested data as an alternative to using `.select()` + `.rename()`\n",
    "- How to use `.split_array()` to extract the location array into multiple fields\n",
    "- How to optimize the flow for better performance\n",
    "- How to plot them using the `penaltyblog` `Pitch` class\n",
    "\n",
    "## Imports"
   ]
  },
  {
   "cell_type": "code",
   "execution_count": 1,
   "id": "e6449b0d",
   "metadata": {},
   "outputs": [],
   "source": [
    "from IPython.display import HTML\n",
    "from penaltyblog.matchflow import Flow, where_equals, get_field\n",
    "from penaltyblog.viz import Pitch\n",
    "import plotly.io as pio"
   ]
  },
  {
   "cell_type": "markdown",
   "id": "b6ae3204",
   "metadata": {},
   "source": [
    "## Load the Data"
   ]
  },
  {
   "cell_type": "code",
   "execution_count": 2,
   "id": "76571641",
   "metadata": {},
   "outputs": [],
   "source": [
    "# Load events for a StatsBomb match\n",
    "match_id = 22912  # Champions League Final 2018/2019\n",
    "\n",
    "flow = Flow.statsbomb.events(match_id)"
   ]
  },
  {
   "cell_type": "markdown",
   "id": "1ad09160",
   "metadata": {},
   "source": [
    "## Extract the Passes"
   ]
  },
  {
   "cell_type": "code",
   "execution_count": 3,
   "id": "9b3cb682",
   "metadata": {},
   "outputs": [
    {
     "name": "stderr",
     "output_type": "stream",
     "text": [
      "/Users/martin/repos/penaltyblog/venv/lib/python3.13/site-packages/statsbombpy/api_client.py:21: NoAuthWarning: credentials were not supplied. open data access only\n",
      "  warnings.warn(\n"
     ]
    },
    {
     "name": "stdout",
     "output_type": "stream",
     "text": [
      "{'x': 60.0, 'y': 40.0, 'x2': 43.4, 'y2': 40.3}\n",
      "{'x': 39.6, 'y': 63.4, 'x2': 39.8, 'y2': 55.0}\n",
      "{'x': 86.5, 'y': 47.8, 'x2': 75.6, 'y2': 55.6}\n"
     ]
    }
   ],
   "source": [
    "passes = (\n",
    "    flow.filter(where_equals(\"player.name\", \"Harry Kane\"))\n",
    "    .filter(where_equals(\"type.name\", \"Pass\"))\n",
    "    .filter(lambda r: get_field(r, \"pass.outcome.name\") is None)\n",
    "    .split_array(\"location\", [\"start_x\", \"start_y\"])\n",
    "    .split_array(\"pass.end_location\", [\"end_x\", \"end_y\"])\n",
    "    .select(\"start_x\", \"start_y\", \"end_x\", \"end_y\")\n",
    "    .rename(start_x=\"x\", start_y=\"y\", end_x=\"x2\", end_y=\"y2\")\n",
    "    .dropna()\n",
    ")\n",
    "\n",
    "for pass_ in passes.head(3):\n",
    "    print(pass_)"
   ]
  },
  {
   "cell_type": "markdown",
   "id": "2e227238",
   "metadata": {},
   "source": [
    "## Plotting the Passes"
   ]
  },
  {
   "cell_type": "code",
   "execution_count": 4,
   "id": "7300585b",
   "metadata": {},
   "outputs": [
    {
     "name": "stderr",
     "output_type": "stream",
     "text": [
      "/Users/martin/repos/penaltyblog/venv/lib/python3.13/site-packages/statsbombpy/api_client.py:21: NoAuthWarning:\n",
      "\n",
      "credentials were not supplied. open data access only\n",
      "\n"
     ]
    },
    {
     "data": {
      "text/html": [
       "<html>\n",
       "<head><meta charset=\"utf-8\" /></head>\n",
       "<body>\n",
       "    <div>                        <script type=\"text/javascript\">window.PlotlyConfig = {MathJaxConfig: 'local'};</script>\n",
       "        <script charset=\"utf-8\" src=\"https://cdn.plot.ly/plotly-3.1.0.min.js\" integrity=\"sha256-Ei4740bWZhaUTQuD6q9yQlgVCMPBz6CZWhevDYPv93A=\" crossorigin=\"anonymous\"></script>                <div id=\"a2f9bcaa-ac23-414e-bf74-98d09f89ff55\" class=\"plotly-graph-div\" style=\"height:400px; width:400px;\"></div>            <script type=\"text/javascript\">                window.PLOTLYENV=window.PLOTLYENV || {};                                if (document.getElementById(\"a2f9bcaa-ac23-414e-bf74-98d09f89ff55\")) {                    Plotly.newPlot(                        \"a2f9bcaa-ac23-414e-bf74-98d09f89ff55\",                        [{\"hoverinfo\":\"skip\",\"line\":{\"color\":\"#90caf9\"},\"mode\":\"lines\",\"showlegend\":false,\"x\":{\"dtype\":\"f8\",\"bdata\":\"AAAAAACAL0BorbUxn9gvQIjkujh0FzBAu8wqlWRBMEBuoBemF2owQE3GwqeEkTBANCulHKO3MEDVU0PPatwwQIfq8dPT\\u002fzBAzWeKitYhMUCLdw+ga0IxQGPAQBCMYTFASLYdJzF\\u002fMUDqJFeCVJsxQIYirxLwtTFAJB9HHf7OMUCAyNs8eeYxQHZ+7mJc\\u002fDFA6hfc2KIQMkA1vOBASCMyQASZCJdINDJA8kANMqBDMkATgx\\u002fES1EyQBKQnVtIXTJAnEW1Y5NnMkAdffKkKnAyQEA\\u002fuUUMdzJAz8GryjZ8MkD8GfwWqX8yQIiRqWxigTJAiJGpbGKBMkD8GfwWqX8yQM\\u002fBq8o2fDJAQD+5RQx3MkAdffKkKnAyQJxFtWOTZzJAEpCdW0hdMkATgx\\u002fES1EyQPJADTKgQzJABJkIl0g0MkA1vOBASCMyQOoX3NiiEDJAdn7uYlz8MUCByNs8eeYxQCQfRx3+zjFAhiKvEvC1MUDqJFeCVJsxQEi2HScxfzFAY8BAEIxhMUCLdw+ga0IxQM1niorWITFAiOrx09P\\u002fMEDVU0PPatwwQDQrpRyjtzBATcbCp4SRMEBuoBemF2owQLzMKpVkQTBAieS6OHQXMEBorbUxn9gvQAAAAAAAgC9A\"},\"y\":{\"dtype\":\"f8\",\"bdata\":\"MvWTMpP0O0CiCQ3fMxw8QHJkvT8ZRTxAgMQQhjpvPECnpGufjpo8QBFoHzcMxzxAO8FsuKn0PEDd5JNQXSM9QO8W8vAcUz1ANx0sUd6DPUDyH2XxlrU9QIl+gRw86D1Aqxt16sIbPkCkoZxCIFA+QIU9Id5IhT5AVE1mSjG7PkBoe4DrzfE+QAq\\u002ftf4SKT9AgbgFnfRgP0Dy3Lm9Zpk\\u002fQMLk\\u002fDhd0j9AynY85eUFQEDS3\\u002f0J0yJAQGVSENDvP0BALp9\\u002f8jVdQED+Ym8jn3pAQEGSdg0lmEBApKT8VMG1QEC8FZiZbdNAQDXvbXcj8UBAyxCSiNwOQUBD6mdmkixBQFxbA6s+SkFAv22J8tpnQUACnZDcYIVBQNJggA3KokFAm63vLxDAQUAuIAL2LN1BQDaJwxoa+kFAn42BY9EWQkCHESOhTDNCQMAjfbGFT0JAeyClgHZrQkBMwj8KGYdCQFbZzFpnokJAPmHvkFu9QkAur7He79dCQCpyxYoe8kJAu0C\\u002f8eELQ0AHcE2HNCVDQGTxadcQPkNAiPSGh3FWQ0CRDbZXUW5DQGKfySOrhUNA+Etw5HmcQ0CsLUqwuLJDQMCd97xiyENAx00hYHPdQ0Ave3kQ5vFDQGcFtma2BURA\"},\"type\":\"scatter\"},{\"hoverinfo\":\"skip\",\"line\":{\"color\":\"#90caf9\"},\"mode\":\"lines\",\"showlegend\":false,\"x\":{\"dtype\":\"f8\",\"bdata\":\"AAAAAABQVkBTSskZ7ERWQN5G0fEiOlZA0Uy12qYvVkDlF3oWeiVWQG1OD9aeG1ZAM7XWOBcSVkALKy9M5QhWQF6FAwsLAFZADWZdXYr3VUAdIvwXZe9VQOfP7\\u002fuc51VAbpI4tjPgVUDGNmrfKtlVQF83VPuD0lVANziueEDMVUDgDcmwYcZVQGJgROfowFVABfrISde7VUDz0MfvLbdVQL\\u002fZPdrtslVAxK988xevVUA7H\\u002fgOratVQPubGOmtqFVAma4SJxumVUC5YMNW9aNVQDCwke48olVAjA9VTfKgVUCB+UC6FaBVQJ6b1WSnn1VAnpvVZKefVUCB+UC6FaBVQIwPVU3yoFVAMLCR7jyiVUC5YMNW9aNVQJmuEicbplVA+5sY6a2oVUA7H\\u002fgOratVQMSvfPMXr1VAv9k92u2yVUDz0MfvLbdVQAX6yEnXu1VAYmBE5+jAVUDgDcmwYcZVQDc4rnhAzFVAXzdU+4PSVUDFNmrfKtlVQG6SOLYz4FVA58\\u002fv+5znVUAdIvwXZe9VQA1mXV2K91VAXoUDCwsAVkALKy9M5QhWQDO11jgXElZAbU4P1p4bVkDkF3oWeiVWQNFMtdqmL1ZA3kbR8SI6VkBTSskZ7ERWQAAAAAAAUFZA\"},\"y\":{\"dtype\":\"f8\",\"bdata\":\"ZwW2ZrYFREAve3kQ5vFDQMdNIWBz3UNAwJ33vGLIQ0CsLUqwuLJDQPdLcOR5nENAYp\\u002fJI6uFQ0CSDbZXUW5DQIn0hodxVkNAZfFp1xA+Q0AIcE2HNCVDQLxAv\\u002fHhC0NAK3LFih7yQkAur7He79dCQD5h75BbvUJAVtnMWmeiQkBMwj8KGYdCQHsgpYB2a0JAvyN9sYVPQkCHESOhTDNCQJ+NgWPRFkJANonDGhr6QUAuIAL2LN1BQJqt7y8QwEFA0mCADcqiQUACnZDcYIVBQMBtifLaZ0FAXFsDqz5KQUBE6mdmkixBQMsQkojcDkFANe9tdyPxQEC9FZiZbdNAQKSk\\u002fFTBtUBAQJJ2DSWYQED+Ym8jn3pAQC6ff\\u002fI1XUBAZlIQ0O8\\u002fQEDS3\\u002f0J0yJAQMp2POXlBUBAwuT8OF3SP0Dz3Lm9Zpk\\u002fQIK4BZ30YD9AC7+1\\u002fhIpP0Boe4DrzfE+QFRNZkoxuz5AhT0h3kiFPkCkoZxCIFA+QKsbderCGz5AiX6BHDzoPUDyH2XxlrU9QDcdLFHegz1A7hby8BxTPUDc5JNQXSM9QDrBbLip9DxAEWgfNwzHPECnpGufjpo8QIDEEIY6bzxAcmS9PxlFPECiCQ3fMxw8QDP1kzKT9DtA\"},\"type\":\"scatter\"},{\"hoverinfo\":\"skip\",\"marker\":{\"color\":\"#90caf9\",\"size\":8},\"mode\":\"markers\",\"showlegend\":false,\"x\":{\"dtype\":\"f8\",\"bdata\":\"AAAAAAAAJUA=\"},\"y\":{\"dtype\":\"f8\",\"bdata\":\"AAAAAAAAQUA=\"},\"type\":\"scatter\"},{\"hoverinfo\":\"skip\",\"marker\":{\"color\":\"#90caf9\",\"size\":8},\"mode\":\"markers\",\"showlegend\":false,\"x\":{\"dtype\":\"f8\",\"bdata\":\"AAAAAACgV0A=\"},\"y\":{\"dtype\":\"f8\",\"bdata\":\"AAAAAAAAQUA=\"},\"type\":\"scatter\"},{\"hoverinfo\":\"skip\",\"marker\":{\"color\":\"#90caf9\",\"size\":8},\"mode\":\"markers\",\"showlegend\":false,\"x\":{\"dtype\":\"f8\",\"bdata\":\"AAAAAABASkA=\"},\"y\":{\"dtype\":\"f8\",\"bdata\":\"AAAAAAAAQUA=\"},\"type\":\"scatter\"}],                        {\"template\":{\"data\":{\"histogram2dcontour\":[{\"type\":\"histogram2dcontour\",\"colorbar\":{\"outlinewidth\":0,\"ticks\":\"\"},\"colorscale\":[[0.0,\"#0d0887\"],[0.1111111111111111,\"#46039f\"],[0.2222222222222222,\"#7201a8\"],[0.3333333333333333,\"#9c179e\"],[0.4444444444444444,\"#bd3786\"],[0.5555555555555556,\"#d8576b\"],[0.6666666666666666,\"#ed7953\"],[0.7777777777777778,\"#fb9f3a\"],[0.8888888888888888,\"#fdca26\"],[1.0,\"#f0f921\"]]}],\"choropleth\":[{\"type\":\"choropleth\",\"colorbar\":{\"outlinewidth\":0,\"ticks\":\"\"}}],\"histogram2d\":[{\"type\":\"histogram2d\",\"colorbar\":{\"outlinewidth\":0,\"ticks\":\"\"},\"colorscale\":[[0.0,\"#0d0887\"],[0.1111111111111111,\"#46039f\"],[0.2222222222222222,\"#7201a8\"],[0.3333333333333333,\"#9c179e\"],[0.4444444444444444,\"#bd3786\"],[0.5555555555555556,\"#d8576b\"],[0.6666666666666666,\"#ed7953\"],[0.7777777777777778,\"#fb9f3a\"],[0.8888888888888888,\"#fdca26\"],[1.0,\"#f0f921\"]]}],\"heatmap\":[{\"type\":\"heatmap\",\"colorbar\":{\"outlinewidth\":0,\"ticks\":\"\"},\"colorscale\":[[0.0,\"#0d0887\"],[0.1111111111111111,\"#46039f\"],[0.2222222222222222,\"#7201a8\"],[0.3333333333333333,\"#9c179e\"],[0.4444444444444444,\"#bd3786\"],[0.5555555555555556,\"#d8576b\"],[0.6666666666666666,\"#ed7953\"],[0.7777777777777778,\"#fb9f3a\"],[0.8888888888888888,\"#fdca26\"],[1.0,\"#f0f921\"]]}],\"contourcarpet\":[{\"type\":\"contourcarpet\",\"colorbar\":{\"outlinewidth\":0,\"ticks\":\"\"}}],\"contour\":[{\"type\":\"contour\",\"colorbar\":{\"outlinewidth\":0,\"ticks\":\"\"},\"colorscale\":[[0.0,\"#0d0887\"],[0.1111111111111111,\"#46039f\"],[0.2222222222222222,\"#7201a8\"],[0.3333333333333333,\"#9c179e\"],[0.4444444444444444,\"#bd3786\"],[0.5555555555555556,\"#d8576b\"],[0.6666666666666666,\"#ed7953\"],[0.7777777777777778,\"#fb9f3a\"],[0.8888888888888888,\"#fdca26\"],[1.0,\"#f0f921\"]]}],\"surface\":[{\"type\":\"surface\",\"colorbar\":{\"outlinewidth\":0,\"ticks\":\"\"},\"colorscale\":[[0.0,\"#0d0887\"],[0.1111111111111111,\"#46039f\"],[0.2222222222222222,\"#7201a8\"],[0.3333333333333333,\"#9c179e\"],[0.4444444444444444,\"#bd3786\"],[0.5555555555555556,\"#d8576b\"],[0.6666666666666666,\"#ed7953\"],[0.7777777777777778,\"#fb9f3a\"],[0.8888888888888888,\"#fdca26\"],[1.0,\"#f0f921\"]]}],\"mesh3d\":[{\"type\":\"mesh3d\",\"colorbar\":{\"outlinewidth\":0,\"ticks\":\"\"}}],\"scatter\":[{\"fillpattern\":{\"fillmode\":\"overlay\",\"size\":10,\"solidity\":0.2},\"type\":\"scatter\"}],\"parcoords\":[{\"type\":\"parcoords\",\"line\":{\"colorbar\":{\"outlinewidth\":0,\"ticks\":\"\"}}}],\"scatterpolargl\":[{\"type\":\"scatterpolargl\",\"marker\":{\"colorbar\":{\"outlinewidth\":0,\"ticks\":\"\"}}}],\"bar\":[{\"error_x\":{\"color\":\"#2a3f5f\"},\"error_y\":{\"color\":\"#2a3f5f\"},\"marker\":{\"line\":{\"color\":\"#E5ECF6\",\"width\":0.5},\"pattern\":{\"fillmode\":\"overlay\",\"size\":10,\"solidity\":0.2}},\"type\":\"bar\"}],\"scattergeo\":[{\"type\":\"scattergeo\",\"marker\":{\"colorbar\":{\"outlinewidth\":0,\"ticks\":\"\"}}}],\"scatterpolar\":[{\"type\":\"scatterpolar\",\"marker\":{\"colorbar\":{\"outlinewidth\":0,\"ticks\":\"\"}}}],\"histogram\":[{\"marker\":{\"pattern\":{\"fillmode\":\"overlay\",\"size\":10,\"solidity\":0.2}},\"type\":\"histogram\"}],\"scattergl\":[{\"type\":\"scattergl\",\"marker\":{\"colorbar\":{\"outlinewidth\":0,\"ticks\":\"\"}}}],\"scatter3d\":[{\"type\":\"scatter3d\",\"line\":{\"colorbar\":{\"outlinewidth\":0,\"ticks\":\"\"}},\"marker\":{\"colorbar\":{\"outlinewidth\":0,\"ticks\":\"\"}}}],\"scattermap\":[{\"type\":\"scattermap\",\"marker\":{\"colorbar\":{\"outlinewidth\":0,\"ticks\":\"\"}}}],\"scattermapbox\":[{\"type\":\"scattermapbox\",\"marker\":{\"colorbar\":{\"outlinewidth\":0,\"ticks\":\"\"}}}],\"scatterternary\":[{\"type\":\"scatterternary\",\"marker\":{\"colorbar\":{\"outlinewidth\":0,\"ticks\":\"\"}}}],\"scattercarpet\":[{\"type\":\"scattercarpet\",\"marker\":{\"colorbar\":{\"outlinewidth\":0,\"ticks\":\"\"}}}],\"carpet\":[{\"aaxis\":{\"endlinecolor\":\"#2a3f5f\",\"gridcolor\":\"white\",\"linecolor\":\"white\",\"minorgridcolor\":\"white\",\"startlinecolor\":\"#2a3f5f\"},\"baxis\":{\"endlinecolor\":\"#2a3f5f\",\"gridcolor\":\"white\",\"linecolor\":\"white\",\"minorgridcolor\":\"white\",\"startlinecolor\":\"#2a3f5f\"},\"type\":\"carpet\"}],\"table\":[{\"cells\":{\"fill\":{\"color\":\"#EBF0F8\"},\"line\":{\"color\":\"white\"}},\"header\":{\"fill\":{\"color\":\"#C8D4E3\"},\"line\":{\"color\":\"white\"}},\"type\":\"table\"}],\"barpolar\":[{\"marker\":{\"line\":{\"color\":\"#E5ECF6\",\"width\":0.5},\"pattern\":{\"fillmode\":\"overlay\",\"size\":10,\"solidity\":0.2}},\"type\":\"barpolar\"}],\"pie\":[{\"automargin\":true,\"type\":\"pie\"}]},\"layout\":{\"autotypenumbers\":\"strict\",\"colorway\":[\"#636efa\",\"#EF553B\",\"#00cc96\",\"#ab63fa\",\"#FFA15A\",\"#19d3f3\",\"#FF6692\",\"#B6E880\",\"#FF97FF\",\"#FECB52\"],\"font\":{\"color\":\"#2a3f5f\"},\"hovermode\":\"closest\",\"hoverlabel\":{\"align\":\"left\"},\"paper_bgcolor\":\"white\",\"plot_bgcolor\":\"#E5ECF6\",\"polar\":{\"bgcolor\":\"#E5ECF6\",\"angularaxis\":{\"gridcolor\":\"white\",\"linecolor\":\"white\",\"ticks\":\"\"},\"radialaxis\":{\"gridcolor\":\"white\",\"linecolor\":\"white\",\"ticks\":\"\"}},\"ternary\":{\"bgcolor\":\"#E5ECF6\",\"aaxis\":{\"gridcolor\":\"white\",\"linecolor\":\"white\",\"ticks\":\"\"},\"baxis\":{\"gridcolor\":\"white\",\"linecolor\":\"white\",\"ticks\":\"\"},\"caxis\":{\"gridcolor\":\"white\",\"linecolor\":\"white\",\"ticks\":\"\"}},\"coloraxis\":{\"colorbar\":{\"outlinewidth\":0,\"ticks\":\"\"}},\"colorscale\":{\"sequential\":[[0.0,\"#0d0887\"],[0.1111111111111111,\"#46039f\"],[0.2222222222222222,\"#7201a8\"],[0.3333333333333333,\"#9c179e\"],[0.4444444444444444,\"#bd3786\"],[0.5555555555555556,\"#d8576b\"],[0.6666666666666666,\"#ed7953\"],[0.7777777777777778,\"#fb9f3a\"],[0.8888888888888888,\"#fdca26\"],[1.0,\"#f0f921\"]],\"sequentialminus\":[[0.0,\"#0d0887\"],[0.1111111111111111,\"#46039f\"],[0.2222222222222222,\"#7201a8\"],[0.3333333333333333,\"#9c179e\"],[0.4444444444444444,\"#bd3786\"],[0.5555555555555556,\"#d8576b\"],[0.6666666666666666,\"#ed7953\"],[0.7777777777777778,\"#fb9f3a\"],[0.8888888888888888,\"#fdca26\"],[1.0,\"#f0f921\"]],\"diverging\":[[0,\"#8e0152\"],[0.1,\"#c51b7d\"],[0.2,\"#de77ae\"],[0.3,\"#f1b6da\"],[0.4,\"#fde0ef\"],[0.5,\"#f7f7f7\"],[0.6,\"#e6f5d0\"],[0.7,\"#b8e186\"],[0.8,\"#7fbc41\"],[0.9,\"#4d9221\"],[1,\"#276419\"]]},\"xaxis\":{\"gridcolor\":\"white\",\"linecolor\":\"white\",\"ticks\":\"\",\"title\":{\"standoff\":15},\"zerolinecolor\":\"white\",\"automargin\":true,\"zerolinewidth\":2},\"yaxis\":{\"gridcolor\":\"white\",\"linecolor\":\"white\",\"ticks\":\"\",\"title\":{\"standoff\":15},\"zerolinecolor\":\"white\",\"automargin\":true,\"zerolinewidth\":2},\"scene\":{\"xaxis\":{\"backgroundcolor\":\"#E5ECF6\",\"gridcolor\":\"white\",\"linecolor\":\"white\",\"showbackground\":true,\"ticks\":\"\",\"zerolinecolor\":\"white\",\"gridwidth\":2},\"yaxis\":{\"backgroundcolor\":\"#E5ECF6\",\"gridcolor\":\"white\",\"linecolor\":\"white\",\"showbackground\":true,\"ticks\":\"\",\"zerolinecolor\":\"white\",\"gridwidth\":2},\"zaxis\":{\"backgroundcolor\":\"#E5ECF6\",\"gridcolor\":\"white\",\"linecolor\":\"white\",\"showbackground\":true,\"ticks\":\"\",\"zerolinecolor\":\"white\",\"gridwidth\":2}},\"shapedefaults\":{\"line\":{\"color\":\"#2a3f5f\"}},\"annotationdefaults\":{\"arrowcolor\":\"#2a3f5f\",\"arrowhead\":0,\"arrowwidth\":1},\"geo\":{\"bgcolor\":\"white\",\"landcolor\":\"#E5ECF6\",\"subunitcolor\":\"white\",\"showland\":true,\"showlakes\":true,\"lakecolor\":\"white\"},\"title\":{\"x\":0.05},\"mapbox\":{\"style\":\"light\"}}},\"margin\":{\"l\":0,\"r\":0,\"t\":50,\"b\":0},\"font\":{\"family\":\"Helvetica Neue, Arial, sans-serif\",\"color\":\"#90caf9\"},\"title\":{\"text\":\"\\u003cb\\u003eHarry Kane – Completed Passes\\u003c\\u002fb\\u003e\",\"x\":0.5,\"xanchor\":\"center\"},\"hoverlabel\":{\"font\":{\"family\":\"Helvetica Neue, Arial, sans-serif\",\"size\":16,\"color\":\"white\"},\"bgcolor\":\"rgba(255,255,255,0.15)\",\"bordercolor\":\"rgba(144,202,249,0.6)\"},\"shapes\":[{\"line\":{\"color\":\"#90caf9\"},\"type\":\"rect\",\"x0\":0,\"x1\":105.0,\"y0\":0,\"y1\":68.0},{\"line\":{\"color\":\"#90caf9\"},\"type\":\"rect\",\"x0\":52.5,\"x1\":52.5,\"y0\":68.0,\"y1\":0.0},{\"line\":{\"color\":\"#90caf9\"},\"type\":\"rect\",\"x0\":0.0,\"x1\":15.75,\"y0\":52.699999999999996,\"y1\":15.299999999999999},{\"line\":{\"color\":\"#90caf9\"},\"type\":\"rect\",\"x0\":89.25,\"x1\":105.0,\"y0\":52.699999999999996,\"y1\":15.299999999999999},{\"line\":{\"color\":\"#90caf9\"},\"type\":\"rect\",\"x0\":0.0,\"x1\":5.25,\"y0\":42.5,\"y1\":25.5},{\"line\":{\"color\":\"#90caf9\"},\"type\":\"rect\",\"x0\":99.75,\"x1\":105.0,\"y0\":42.5,\"y1\":25.5},{\"line\":{\"color\":\"#90caf9\"},\"type\":\"circle\",\"x0\":44.49375,\"x1\":60.50625,\"y0\":25.99375,\"y1\":42.00625}],\"width\":400,\"height\":400,\"plot_bgcolor\":\"#0f1e2e\",\"paper_bgcolor\":\"#0f1e2e\",\"showlegend\":false,\"xaxis\":{\"range\":[-5,110.0],\"scaleanchor\":\"y\",\"constrain\":\"domain\",\"fixedrange\":true,\"showgrid\":false,\"zeroline\":false,\"showticklabels\":false,\"visible\":false},\"yaxis\":{\"range\":[-5,73.0],\"constrain\":\"domain\",\"fixedrange\":true,\"showgrid\":false,\"zeroline\":false,\"showticklabels\":false,\"visible\":false},\"annotations\":[{\"arrowcolor\":\"#ffca28\",\"arrowhead\":2,\"arrowsize\":1.0,\"arrowwidth\":2.0,\"ax\":52.5,\"axref\":\"x\",\"ay\":34.0,\"ayref\":\"y\",\"opacity\":1.0,\"showarrow\":true,\"x\":37.975,\"xref\":\"x\",\"y\":33.745000000000005,\"yref\":\"y\"},{\"arrowcolor\":\"#ffca28\",\"arrowhead\":2,\"arrowsize\":1.0,\"arrowwidth\":2.0,\"ax\":34.65,\"axref\":\"x\",\"ay\":14.110000000000001,\"ayref\":\"y\",\"opacity\":1.0,\"showarrow\":true,\"x\":34.824999999999996,\"xref\":\"x\",\"y\":21.25,\"yref\":\"y\"},{\"arrowcolor\":\"#ffca28\",\"arrowhead\":2,\"arrowsize\":1.0,\"arrowwidth\":2.0,\"ax\":75.6875,\"axref\":\"x\",\"ay\":27.37,\"ayref\":\"y\",\"opacity\":1.0,\"showarrow\":true,\"x\":66.14999999999999,\"xref\":\"x\",\"y\":20.74,\"yref\":\"y\"},{\"arrowcolor\":\"#ffca28\",\"arrowhead\":2,\"arrowsize\":1.0,\"arrowwidth\":2.0,\"ax\":80.0625,\"axref\":\"x\",\"ay\":12.665000000000004,\"ayref\":\"y\",\"opacity\":1.0,\"showarrow\":true,\"x\":82.8625,\"xref\":\"x\",\"y\":18.020000000000003,\"yref\":\"y\"},{\"arrowcolor\":\"#ffca28\",\"arrowhead\":2,\"arrowsize\":1.0,\"arrowwidth\":2.0,\"ax\":91.875,\"axref\":\"x\",\"ay\":51.339999999999996,\"ayref\":\"y\",\"opacity\":1.0,\"showarrow\":true,\"x\":98.0,\"xref\":\"x\",\"y\":63.665000000000006,\"yref\":\"y\"},{\"arrowcolor\":\"#ffca28\",\"arrowhead\":2,\"arrowsize\":1.0,\"arrowwidth\":2.0,\"ax\":71.83749999999999,\"axref\":\"x\",\"ay\":34.765,\"ayref\":\"y\",\"opacity\":1.0,\"showarrow\":true,\"x\":78.39999999999999,\"xref\":\"x\",\"y\":41.48,\"yref\":\"y\"},{\"arrowcolor\":\"#ffca28\",\"arrowhead\":2,\"arrowsize\":1.0,\"arrowwidth\":2.0,\"ax\":105.0,\"axref\":\"x\",\"ay\":67.915,\"ayref\":\"y\",\"opacity\":1.0,\"showarrow\":true,\"x\":101.7625,\"xref\":\"x\",\"y\":51.339999999999996,\"yref\":\"y\"},{\"arrowcolor\":\"#ffca28\",\"arrowhead\":2,\"arrowsize\":1.0,\"arrowwidth\":2.0,\"ax\":67.2,\"axref\":\"x\",\"ay\":57.97,\"ayref\":\"y\",\"opacity\":1.0,\"showarrow\":true,\"x\":96.075,\"xref\":\"x\",\"y\":9.775,\"yref\":\"y\"},{\"arrowcolor\":\"#ffca28\",\"arrowhead\":2,\"arrowsize\":1.0,\"arrowwidth\":2.0,\"ax\":65.45,\"axref\":\"x\",\"ay\":35.614999999999995,\"ayref\":\"y\",\"opacity\":1.0,\"showarrow\":true,\"x\":77.96249999999999,\"xref\":\"x\",\"y\":47.515,\"yref\":\"y\"}]},                        {\"responsive\": true}                    )                };            </script>        </div>\n",
       "</body>\n",
       "</html>"
      ],
      "text/plain": [
       "<IPython.core.display.HTML object>"
      ]
     },
     "execution_count": 4,
     "metadata": {},
     "output_type": "execute_result"
    }
   ],
   "source": [
    "pitch = Pitch(\n",
    "    provider=\"statsbomb\",\n",
    "    orientation=\"horizontal\",\n",
    "    view=\"full\",\n",
    "    theme=\"night\",\n",
    "    show_axis=False,\n",
    "    show_legend=False,\n",
    "    width=400,\n",
    "    height=400,\n",
    "    title=\"Harry Kane – Completed Passes\",\n",
    ")\n",
    "\n",
    "pitch.plot_arrows(passes)\n",
    "# NOTE: normally we'd just call `pitch.show()` here, but since\n",
    "# we're exporting to HTML docs, we need to use `HTML` to export\n",
    "# the plot\n",
    "# pitch.show()\n",
    "HTML(pio.to_html(pitch.fig, include_plotlyjs=\"cdn\"))"
   ]
  }
 ],
 "metadata": {
  "kernelspec": {
   "display_name": "venv",
   "language": "python",
   "name": "python3"
  },
  "language_info": {
   "codemirror_mode": {
    "name": "ipython",
    "version": 3
   },
   "file_extension": ".py",
   "mimetype": "text/x-python",
   "name": "python",
   "nbconvert_exporter": "python",
   "pygments_lexer": "ipython3",
   "version": "3.13.1"
  }
 },
 "nbformat": 4,
 "nbformat_minor": 5
}
