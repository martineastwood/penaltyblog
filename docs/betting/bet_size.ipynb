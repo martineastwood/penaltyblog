{
 "cells": [
  {
   "cell_type": "markdown",
   "id": "57771b18",
   "metadata": {},
   "source": [
    "# Bet Sizing\n",
    "\n",
    "This submodule provides powerful tools for calculating optimal bet sizes using the **Kelly Criterion**, a mathematical formula designed to maximize the long-term growth of a bankroll.\n",
    "\n",
    "---\n",
    "\n",
    "## Single Bet Analysis (`kelly_criterion`)\n",
    "\n",
    "Use this function to perform a deep analysis of a single betting opportunity. It calculates the optimal stake and provides a wealth of metrics to help you understand the bet's risk and reward profile.\n",
    "\n",
    "```python\n",
    "penaltyblog.betting.kelly_criterion(\n",
    "    decimal_odds: Union[float, NDArray, List[float]],\n",
    "    true_prob: Union[float, NDArray, List[float]],\n",
    "    fraction: float = 1.0,\n",
    ") -> KellyResult\n",
    "```\n",
    "\n",
    "**Parameters**\n",
    "\n",
    "- `decimal_odds`: The decimal odds for the bet (e.g., 2.5). Can be a single number or a NumPy array for multiple independent bets.\n",
    "- `true_prob`: Your estimated \"true\" probability of the outcome (from 0 to 1).\n",
    "- `fraction` (default=`1.0`): A fraction of the full Kelly stake to use. Common values are `0.5` for \"Half Kelly\" or `0.25` for \"Quarter Kelly\" to adopt a more conservative strategy.\n",
    "\n",
    "### Returns (`KellyResult` Object)\n",
    "\n",
    "The function returns a `KellyResult` data object containing a complete analysis.\n",
    "\n",
    "- `stake` (`float`): The recommended fraction of your bankroll to wager (e.g., 0.05 for 5%).\n",
    "- `expected_growth` (`float`): The expected logarithmic growth rate of your bankroll if you place this bet. This is the metric that the Kelly Criterion optimizes.\n",
    "- `edge` (`float`): Your mathematical edge on the bet. A positive edge means the bet has a positive expected value.\n",
    "- `is_favorable` (`bool`): `True` if the bet has a positive edge.\n",
    "- `risk_metrics` (`RiskMetrics`): A detailed object containing advanced risk and return metrics. See the **Understanding the Risk Metrics** section below for a full explanation.\n",
    "\n",
    "### Usage Example"
   ]
  },
  {
   "cell_type": "code",
   "execution_count": 1,
   "id": "5929966f",
   "metadata": {},
   "outputs": [
    {
     "name": "stdout",
     "output_type": "stream",
     "text": [
      "Is the bet favorable? True\n",
      "Recommended Stake: 7.05% of bankroll\n",
      "Expected Growth Rate: 0.8177%\n",
      "--------------------------------------------------\n",
      "Advanced Risk Metrics:\n",
      "  - Sharpe Ratio: 0.11\n",
      "  - Volatility of Wealth: 0.0736\n",
      "  - 95% Value at Risk: 7.05% of bankroll\n"
     ]
    }
   ],
   "source": [
    "import penaltyblog as pb\n",
    "\n",
    "# Analyze a single bet with a 55% chance of winning at odds of 2.1\n",
    "# We'll use a conservative Half Kelly approach (fraction=0.5)\n",
    "result = pb.betting.kelly_criterion(2.1, 0.55, fraction=0.5)\n",
    "\n",
    "print(f\"Is the bet favorable? {result.is_favorable}\")\n",
    "print(f\"Recommended Stake: {result.stake:.2%} of bankroll\")\n",
    "print(f\"Expected Growth Rate: {result.expected_growth:.4%}\")\n",
    "print(\"-\" * 50)\n",
    "print(\"Advanced Risk Metrics:\")\n",
    "if result.risk_metrics:\n",
    "    print(f\"  - Sharpe Ratio: {result.risk_metrics.sharpe_ratio:.2f}\")\n",
    "    print(f\"  - Volatility of Wealth: {result.risk_metrics.wealth_volatility:.4f}\")\n",
    "    print(f\"  - 95% Value at Risk: {result.risk_metrics.value_at_risk_95:.2%} of bankroll\")"
   ]
  },
  {
   "cell_type": "markdown",
   "id": "ff7ee7ff",
   "metadata": {},
   "source": [
    "## Portfolio Betting (`multiple_kelly_criterion`)\n",
    "\n",
    "This is a powerful function for calculating optimal stakes when you have the opportunity to bet on multiple, mutually exclusive outcomes at the same time (e.g., Home, Draw, and Away in a football match).\n",
    "\n",
    "Instead of just calculating Kelly for each bet independently, this function uses an optimizer to treat them as a portfolio, finding the allocation that maximizes the overall growth rate of your bankroll.\n",
    "\n",
    "```python\n",
    "penaltyblog.betting.multiple_kelly_criterion(\n",
    "    decimal_odds: Union[List[float], NDArray],\n",
    "    true_probs: Union[List[float], NDArray],\n",
    "    fraction: float = 1.0,\n",
    "    max_total_stake: float = 1.0,\n",
    "    method: Literal[\"simultaneous\", \"independent\"] = \"simultaneous\",\n",
    ") -> MultipleKellyResult\n",
    "```\n",
    "\n",
    "**Parameters**\n",
    "\n",
    "- `decimal_odds` (`List[float]`): A list of decimal odds for each outcome.\n",
    "- `true_probs` (`List[float]`): A list of your estimated probabilities for each outcome. The sum must be <= 1.0.\n",
    "- `fraction` (default=`1.0`): A fraction of the optimal Kelly stakes to apply.\n",
    "- `max_total_stake` (default=`1.0`): The maximum total fraction of your bankroll you are willing to stake across all bets combined.\n",
    "- `method` (default=`\"simultaneous\"`):\n",
    "    - `simultaneous`: (Recommended) Uses a numerical optimizer to find the best possible allocation across all bets to maximize portfolio growth.\n",
    "    - `independent`: Calculates the Kelly stake for each bet individually and then scales them down if they exceed `max_total_stake`. Less optimal but faster.\n",
    "\n",
    "\n",
    "### Returns (`MultipleKellyResult` Object)\n",
    "\n",
    "- `stakes` (`List[float]`): The list of recommended stakes for each outcome.\n",
    "- `total_stake` (`float`): The total fraction of your bankroll to be staked.\n",
    "- `expected_growth` (`float`): The expected logarithmic growth rate for the entire portfolio.\n",
    "- `risk_metrics` (`RiskMetrics`): A detailed risk analysis for the entire portfolio.\n",
    "- `optimization_success` (`bool`): `True` if the \"simultaneous\" optimizer found a valid solution.\n",
    "\n",
    "### Usage Example"
   ]
  },
  {
   "cell_type": "code",
   "execution_count": 3,
   "id": "99375e1d",
   "metadata": {},
   "outputs": [
    {
     "name": "stdout",
     "output_type": "stream",
     "text": [
      "Optimal Portfolio Stakes:\n",
      "- Home Win (at 2.5): 27.17% of bankroll\n",
      "- Draw (at 3.2): 3.26% of bankroll\n",
      "- Away Win (at 2.8): 0.00% of bankroll\n",
      "--------------------\n",
      "Total Stake: 30.43%\n",
      "Portfolio Expected Growth: 4.6783%\n",
      "Portfolio Sharpe Ratio: 0.15\n"
     ]
    }
   ],
   "source": [
    "import penaltyblog as pb\n",
    "\n",
    "# A 1X2 football market where we have a very strong edge on the Home team\n",
    "odds = [2.5, 3.2, 2.8]\n",
    "\n",
    "# Our probabilities show a much higher chance for a Home win (55%)\n",
    "# than the odds imply (1 / 2.5 = 40%).\n",
    "probs = [0.55, 0.25, 0.20]\n",
    "\n",
    "result = pb.betting.kelly.multiple_kelly_criterion(odds, probs)\n",
    "\n",
    "print(\"Optimal Portfolio Stakes:\")\n",
    "print(f\"- Home Win (at {odds[0]}): {result.stakes[0]:.2%} of bankroll\")\n",
    "print(f\"- Draw (at {odds[1]}): {result.stakes[1]:.2%} of bankroll\")\n",
    "print(f\"- Away Win (at {odds[2]}): {result.stakes[2]:.2%} of bankroll\")\n",
    "print(\"-\" * 20)\n",
    "print(f\"Total Stake: {result.total_stake:.2%}\")\n",
    "print(f\"Portfolio Expected Growth: {result.expected_growth:.4%}\")\n",
    "print(f\"Portfolio Sharpe Ratio: {result.risk_metrics.sharpe_ratio:.2f}\")"
   ]
  },
  {
   "cell_type": "markdown",
   "id": "a81f1163",
   "metadata": {},
   "source": [
    "## Understanding the Risk Metrics\n",
    "\n",
    "Both functions return a `RiskMetrics` object that gives you a deep insight into the risk/reward profile of your strategy.\n",
    "\n",
    "- `expected_return`: Your expected profit as a percentage of your total stake. A 10% expected return means you expect to make £0.10 for every £1 staked.\n",
    "- `kelly_growth_rate`: The expected long-term growth rate of your bankroll, expressed as a percentage. This is the core metric Kelly optimizes. A higher number is better.\n",
    "- `wealth_volatility`: The standard deviation of your final bankroll. This measures how much your bankroll is expected to swing up and down. A lower number indicates a less risky strategy.\n",
    "- `sharpe_ratio`: A measure of risk-adjusted return (growth rate divided by its volatility). It helps you compare strategies with different risk levels. A higher Sharpe Ratio is better.\n",
    "- `probability_of_ruin`: The chance of losing your entire staked capital in this specific round of betting.\n",
    "- `value_at_risk_95`: The maximum you can expect to lose 95% of the time, expressed as a percentage of your bankroll. "
   ]
  }
 ],
 "metadata": {
  "kernelspec": {
   "display_name": "venv",
   "language": "python",
   "name": "python3"
  },
  "language_info": {
   "codemirror_mode": {
    "name": "ipython",
    "version": 3
   },
   "file_extension": ".py",
   "mimetype": "text/x-python",
   "name": "python",
   "nbconvert_exporter": "python",
   "pygments_lexer": "ipython3",
   "version": "3.13.1"
  }
 },
 "nbformat": 4,
 "nbformat_minor": 5
}
