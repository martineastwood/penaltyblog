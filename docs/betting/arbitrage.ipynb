{
 "cells": [
  {
   "cell_type": "markdown",
   "id": "81215b75-f5f8-4c17-9cd4-08b1b0ed4234",
   "metadata": {},
   "source": [
    "# Arbitrage Hedging \n",
    "\n",
    "Arbitrage hedging is the practice of placing bets on different outcomes of an event to manage risk from an existing bet. This can be used to either lock in a guaranteed profit or to minimize a potential loss, regardless of the final result.\n",
    "\n",
    "The primary function, `arbitrage_hedge`, uses a **linear programming optimizer** to find the ideal hedge stakes that maximize your worst-case (guaranteed) profit.\n",
    "\n",
    "### `arbitrage_hedge()`\n",
    "\n",
    "This function calculates the required stake(s) for hedge bets to guarantee a specific profit or minimize your loss from one or more existing positions.\n",
    "\n",
    "```python\n",
    "penaltyblog.betting.arbitrage.arbitrage_hedge(\n",
    "    existing_stakes: List[float],\n",
    "    existing_odds: List[float],\n",
    "    hedge_odds: List[float],\n",
    "    target_profit: Optional[float] = None,\n",
    "    hedge_all: bool = True,\n",
    "    allow_lay: bool = False,\n",
    "    tolerance: float = 1e-10,\n",
    ") -> ArbitrageHedgeResult\n",
    "```\n",
    "\n",
    "**IMPORTANT: Understanding \"Guaranteed Profit\"**\n",
    "\n",
    "The `guaranteed_profit` calculated by this function is your worst-case profit across all possible outcomes.\n",
    "\n",
    "In many real-world scenarios (e.g., with uneven existing bets), the profit you make will be *different* for each outcome. The function returns the *minimum amount* you are guaranteed to receive. For example, if a hedge results in potential profits of `[+£105, -£2, -£50]`, the `guaranteed_profit` will be **-£50**.\n",
    "\n",
    "Equal profits across all outcomes are only possible in perfectly symmetric situations or when \"laying\" (betting against an outcome) is allowed.\n",
    "\n",
    "**Parameters**\n",
    "\n",
    "- `existing_stakes` `(List[float])`: A list of the amounts you have already staked on each outcome.\n",
    "- `existing_odds` `(List[float])`: The decimal odds for your existing bets.\n",
    "- `hedge_odds` `(List[float])`: The current decimal odds available for placing hedge bets.\n",
    "- `target_profit` `(float, optional)`: A specific profit you want to lock in. If provided, the function will calculate the stakes needed to achieve this exact profit, if possible. If `None`, it will maximize the guaranteed profit.\n",
    "- `hedge_all` `(bool, default=True)`: If `True`, the function hedges against all possible outcomes. If `False`, it only hedges the specific outcomes where you have an existing stake.\n",
    "- `allow_lay` `(bool, default=False)`: If `True`, allows the function to calculate negative (\"lay\") stakes. Standard bookmakers typically don't allow this, so the default is `False`, which forces the function to redistribute these amounts across other bets.\n",
    "- `tolerance` `(float, default=1e-10)`: A small number for handling floating-point comparisons.\n",
    "\n",
    "**Returns**\n",
    "\n",
    "The function returns an `ArbitrageHedgeResult` object, which contains detailed information about the calculated hedge.\n",
    "\n",
    "---\n",
    "\n",
    "## Understanding the Result (`ArbitrageHedgeResult`)\n",
    "\n",
    "The function returns a rich data object with useful attributes for analysis and execution.\n",
    "\n",
    "- `practical_hedge_stakes` `(List[float])`: A list of the actual, non-negative bet amounts you should place on each outcome. This is the primary result you'll use.\n",
    "- `guaranteed_profit` `(float)`: The guaranteed minimum profit (or loss, if negative) you will receive after placing the hedge bets.\n",
    "- `raw_hedge_stakes` `(List[float])`: The theoretical stakes calculated by the optimizer. This may contain negative values, which represent a \"lay\" bet.\n",
    "- `total_hedge_needed` `(float)`: The total value of negative stakes that had to be redistributed to other outcomes because allow_lay was `False`.\n",
    "- `lp_success` `(bool)`: `True` if the linear programming optimizer found a solution, `False` if the function had to use its fallback heuristic.\n",
    "- `lp_message` `(str | None)`: A message from the optimizer, usually present if it failed.\n",
    "- `existing_payouts` `(List[float])`: The potential payout for each of your original bets.\n",
    "- `total_existing_stakes` `(float)`: The total amount of your original stakes.\n",
    "\n",
    "---\n",
    "\n",
    "## Usage Examples\n",
    "\n",
    "**Example 1: Locking in a Guaranteed Profit (A \"Good\" Hedge)**\n",
    "\n",
    "This is the ideal scenario. You bet on an underdog, the odds move significantly in your favour, and you can now hedge to guarantee a profit no matter what.\n",
    "\n",
    "Let's say you bet £25 on an Away Win at high odds of 6.0. On match day, their odds have shortened to 3.0."
   ]
  },
  {
   "cell_type": "code",
   "execution_count": 11,
   "id": "1f931497-c1f9-4cb4-969a-058676e42a24",
   "metadata": {
    "tags": []
   },
   "outputs": [
    {
     "name": "stdout",
     "output_type": "stream",
     "text": [
      "Hedge bets to place: [Home: £60.00, Draw: £42.86, Away: £0.00]\n",
      "Guaranteed profit: £22.14\n",
      "Optimizer success: True\n"
     ]
    }
   ],
   "source": [
    "import penaltyblog as pb\n",
    "\n",
    "# Your existing bet: £25 on an Away Win at 6.0\n",
    "# Format: [Home, Draw, Away]\n",
    "stakes = [0, 0, 25]\n",
    "old_odds = [1.5, 4.0, 6.0]\n",
    "\n",
    "# On match day, the odds have shifted significantly\n",
    "new_odds = [2.5, 3.5, 3.0]\n",
    "\n",
    "result = pb.betting.arbitrage.arbitrage_hedge(\n",
    "    existing_stakes=stakes,\n",
    "    existing_odds=old_odds,\n",
    "    hedge_odds=new_odds,\n",
    ")\n",
    "\n",
    "print(f\"Hedge bets to place: [Home: £{result.raw_hedge_stakes[0]:.2f}, Draw: £{result.raw_hedge_stakes[1]:.2f}, Away: £{result.raw_hedge_stakes[2]:.2f}]\")\n",
    "print(f\"Guaranteed profit: £{result.guaranteed_profit:.2f}\")\n",
    "print(f\"Optimizer success: {result.lp_success}\")"
   ]
  },
  {
   "cell_type": "markdown",
   "id": "e1aecca9",
   "metadata": {},
   "source": [
    "**Conclusion**: The function advises betting **£47.24** on the Home Win and **£33.75** on the Draw. This eliminates the risk and locks in a **guaranteed profit of £21.87**. ✅\n",
    "\n",
    "## Example 2: Assessing Risk (A \"Bad\" Hedge)\n",
    "\n",
    "Sometimes, the function's value is in telling you **not** to hedge.\n",
    "\n",
    "Let's use the example from before that resulted in a negative profit. You bet £50 on a Home Win at 3.5, and the odds shorten to 2.8."
   ]
  },
  {
   "cell_type": "code",
   "execution_count": 12,
   "id": "0a91da46",
   "metadata": {},
   "outputs": [
    {
     "name": "stdout",
     "output_type": "stream",
     "text": [
      "Guaranteed profit: £-50.90\n"
     ]
    }
   ],
   "source": [
    "import penaltyblog as pb\n",
    "\n",
    "stakes = [50, 0, 0]\n",
    "old_odds = [3.5, 3.4, 2.9]\n",
    "new_odds = [2.8, 3.8, 3.1]\n",
    "\n",
    "result = pb.betting.arbitrage.arbitrage_hedge(\n",
    "    existing_stakes=stakes,\n",
    "    existing_odds=old_odds,\n",
    "    hedge_odds=new_odds,\n",
    ")\n",
    "\n",
    "print(f\"Guaranteed profit: £{result.guaranteed_profit:.2f}\")"
   ]
  },
  {
   "cell_type": "markdown",
   "id": "68354c68",
   "metadata": {},
   "source": [
    "**Conclusion**: The function correctly calculates that there is no combination of hedge bets at the new odds that can guarantee a profit. The best possible worst-case outcome is a loss of **£50.90**, which is no better than your original risk of losing £50. The tool has successfully shown you that **hedging is not advisable here.** ❌"
   ]
  }
 ],
 "metadata": {
  "kernelspec": {
   "display_name": "venv",
   "language": "python",
   "name": "python3"
  },
  "language_info": {
   "codemirror_mode": {
    "name": "ipython",
    "version": 3
   },
   "file_extension": ".py",
   "mimetype": "text/x-python",
   "name": "python",
   "nbconvert_exporter": "python",
   "pygments_lexer": "ipython3",
   "version": "3.13.1"
  }
 },
 "nbformat": 4,
 "nbformat_minor": 5
}
