{
 "cells": [
  {
   "cell_type": "markdown",
   "id": "a8669ef7",
   "metadata": {},
   "source": [
    "# Odds Conversion Utilities\n",
    "\n",
    "This submodule provides a simple and reliable way to convert betting odds from different common formats into a standardized Decimal format.\n",
    "\n",
    "Since most analytical functions in penaltyblog expect odds to be in decimal format, this utility is a crucial first step for working with data from various sources.\n",
    "\n",
    "---\n",
    "\n",
    "## Supported Odds Formats\n",
    "\n",
    "The converter understands the three most common odds formats used worldwide.\n",
    "\n",
    "- **Decimal Odds (e.g., `2.50`, `1.80`)**: Represents the total amount returned for a 1-unit stake, including the original stake. A stake of £10 at 2.50 odds returns £25 (£15 profit + £10 stake). This is typically the standard format in Europe, Australia, and Canada.\n",
    "- **American (Moneyline) Odds (e.g., `+150`, `-200`)**: A positive number shows how much profit you win for a 100-unit stake (e.g., `+150` means you win £150 profit for a £100 stake). A negative number shows how much you must stake to win 100 units of profit (e.g., `-200` means you must stake £200 to win £100 profit).\n",
    "- **Fractional Odds (e.g., `\"5/2\"`, `\"2/1\"`)**: Shows the profit relative to the stake. The first number is the profit, the second is the stake. For example, `5/2` (read \"five to two\") means you win £5 profit for every £2 you stake. This format is common in the UK and Ireland.\n",
    "\n",
    "---\n",
    "\n",
    "## The `convert_odds` Function\n",
    "\n",
    "This is the primary, easy-to-use function for all conversions. It takes a list of odds in a specified format and returns them as a list of decimal odds.\n",
    "\n",
    "```python\n",
    "penaltyblog.betting.convert_odds(\n",
    "    odds: List[Union[float, str]],\n",
    "    odds_format: Union[str, OddsFormat],\n",
    "    market_names: List[str] = None,\n",
    ") -> List[float]\n",
    "```\n",
    "\n",
    "### Parameters\n",
    "\n",
    "- **odds (`List[Union[float, str]]`)**: The list of odds you want to convert. This can be numbers for Decimal/American or strings for Fractional.\n",
    "- **odds_format (`str | OddsFormat`)**: The format of the odds you are providing. This can be a string (e.g., `\"american\"`, `\"fractional\"`) or an `OddsFormat` enum member.\n",
    "- **market_names (`List[str], optional`)**: Optional names for each market outcome; this parameter is included for API consistency but is not used in the conversion calculation.\n",
    "\n",
    "### Returns\n",
    "\n",
    "**`(List[float])`**: A new list containing the odds converted to the **Decimal** format.\n",
    "\n",
    "---\n",
    "\n",
    "### Usage Examples\n",
    "\n",
    "**Converting American Odds to Decimal**"
   ]
  },
  {
   "cell_type": "code",
   "execution_count": 1,
   "id": "280b24f0",
   "metadata": {},
   "outputs": [
    {
     "name": "stdout",
     "output_type": "stream",
     "text": [
      "American: [170, 130, -110]\n",
      "Decimal:  [2.7, 2.3, 1.9090909090909092]\n"
     ]
    }
   ],
   "source": [
    "import penaltyblog as pb\n",
    "\n",
    "american_odds = [+170, +130, -110]\n",
    "\n",
    "decimal_odds = pb.betting.convert_odds(american_odds, \"american\")\n",
    "\n",
    "print(f\"American: {american_odds}\")\n",
    "print(f\"Decimal:  {decimal_odds}\")"
   ]
  },
  {
   "cell_type": "markdown",
   "id": "46e7ab35",
   "metadata": {},
   "source": [
    "**Converting Fractional Odds to Decimal**"
   ]
  },
  {
   "cell_type": "code",
   "execution_count": 2,
   "id": "900e49f9",
   "metadata": {},
   "outputs": [
    {
     "name": "stdout",
     "output_type": "stream",
     "text": [
      "Fractional: ['7/4', '13/10', '7/2']\n",
      "Decimal:    [2.75, 2.3, 4.5]\n"
     ]
    }
   ],
   "source": [
    "import penaltyblog as pb\n",
    "\n",
    "fractional_odds = ['7/4', '13/10', '7/2']\n",
    "\n",
    "decimal_odds = pb.betting.convert_odds(fractional_odds, \"fractional\")\n",
    "\n",
    "print(f\"Fractional: {fractional_odds}\")\n",
    "print(f\"Decimal:    {decimal_odds}\")"
   ]
  }
 ],
 "metadata": {
  "kernelspec": {
   "display_name": "venv",
   "language": "python",
   "name": "python3"
  },
  "language_info": {
   "codemirror_mode": {
    "name": "ipython",
    "version": 3
   },
   "file_extension": ".py",
   "mimetype": "text/x-python",
   "name": "python",
   "nbconvert_exporter": "python",
   "pygments_lexer": "ipython3",
   "version": "3.13.1"
  }
 },
 "nbformat": 4,
 "nbformat_minor": 5
}
