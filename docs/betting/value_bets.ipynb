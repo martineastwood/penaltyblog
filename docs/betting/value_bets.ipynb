{
 "cells": [
  {
   "cell_type": "markdown",
   "id": "81215b75-f5f8-4c17-9cd4-08b1b0ed4234",
   "metadata": {},
   "source": [
    "# Identifying Value Bets\n",
    "\n",
    "A \"value bet\" is the cornerstone of any successful betting strategy. It's a bet where you believe the true probability of an outcome is higher than the probability implied by the bookmaker's odds. Placing value bets consistently is the key to long-term profitability.\n",
    "\n",
    "---\n",
    "\n",
    "## The `identify_value_bet` Function\n",
    "\n",
    "This is the core function for value analysis. It takes bookmaker odds and your own estimated probabilities, and returns a comprehensive analysis of the betting opportunity, including expected value and a recommended Kelly stake.\n",
    "\n",
    "```python\n",
    "penaltyblog.betting.identify_value_bet(\n",
    "    bookmaker_odds: Union[float, List[float], NDArray],\n",
    "    estimated_probability: Union[float, List[float], NDArray],\n",
    "    kelly_fraction: float = 1.0,\n",
    "    min_edge_threshold: float = 0.0,\n",
    ") -> Union[ValueBetResult, MultipleValueBetResult]\n",
    "```\n",
    "\n",
    "**Parameters**\n",
    "\n",
    "- `bookmaker_odds`: A single decimal odd, or a list/array of odds.\n",
    "- `estimated_probability`: Your estimated true probability (from 0 to 1) for the corresponding outcome(s).\n",
    "- `kelly_fraction` (default=`1.0`): The fraction of the Kelly Criterion to recommend (e.g., 0.5 for a more conservative \"Half Kelly\" stake).\n",
    "- `min_edge_threshold` (default=`0.0`): The minimum required \"edge\" (your probability minus the implied probability) for a bet to be flagged as a value bet.\n",
    "\n",
    "### Returns\n",
    "\n",
    "The function intelligently returns one of two detailed data objects:\n",
    "\n",
    "- `ValueBetResult`: If you provide a single odd and probability.\n",
    "- `MultipleValueBetResult`: If you provide a list of odds and probabilities.\n",
    "\n",
    "### Understanding the Results\n",
    "\n",
    "**For Single Bets (`ValueBetResult`)**\n",
    "\n",
    "When analyzing a single bet, you get a detailed breakdown:\n",
    "\n",
    "- `is_value_bet` (`bool`): True if the bet has a positive edge above your threshold.\n",
    "- `expected_value` (`float`): The amount you expect to win or lose per unit staked. A positive EV indicates a profitable bet in the long run.\n",
    "- `edge` (`float`): The difference between your probability and the bookmaker's implied probability.\n",
    "- `recommended_stake_kelly` (`float`): The optimal fraction of your bankroll to stake, according to the full Kelly Criterion.\n",
    "- `recommended_stake_fraction` (`float`): The Kelly stake, adjusted by the kelly_fraction you provided.\n",
    "\n",
    "**For Multiple Bets (`MultipleValueBetResult`)**\n",
    "\n",
    "When analyzing a list of bets (e.g., a weekend's fixtures), you get a portfolio-level summary:\n",
    "\n",
    "- `individual_results` (`List[ValueBetResult]`): A list containing a detailed `ValueBetResult` object for each bet you provided.\n",
    "- `total_value_bets` (`int`): The number of bets in the list that were identified as having value.\n",
    "- `average_edge` (`float`): The average edge across all identified value bets.\n",
    "- `kelly_stakes` (`List[float]`): A list of the recommended (fractional) Kelly stakes for the entire portfolio of bets.\n",
    "\n",
    "### Usage Examples\n",
    "\n",
    "**Single Bet Analysis**"
   ]
  },
  {
   "cell_type": "code",
   "execution_count": 2,
   "id": "1f931497-c1f9-4cb4-969a-058676e42a24",
   "metadata": {
    "tags": []
   },
   "outputs": [
    {
     "name": "stdout",
     "output_type": "stream",
     "text": [
      "This is a value bet! ✅\n",
      "Edge: 10.00%\n",
      "Expected Value (per £1 staked): £0.25\n",
      "Recommended Full Kelly Stake: 16.67% of bankroll\n"
     ]
    }
   ],
   "source": [
    "import penaltyblog as pb\n",
    "\n",
    "# We think a team has a 50% chance to win, but the odds are 2.5\n",
    "result = pb.betting.identify_value_bet(2.5, 0.50)\n",
    "\n",
    "if result.is_value_bet:\n",
    "    print(\"This is a value bet! ✅\")\n",
    "    print(f\"Edge: {result.edge:.2%}\")\n",
    "    print(f\"Expected Value (per £1 staked): £{result.expected_value:.2f}\")\n",
    "    print(f\"Recommended Full Kelly Stake: {result.recommended_stake_kelly:.2%} of bankroll\")\n",
    "else:\n",
    "    print(\"This is not a value bet. ❌\")"
   ]
  },
  {
   "cell_type": "markdown",
   "id": "bd34ea1e",
   "metadata": {},
   "source": [
    "**Multiple Bet Analysis**"
   ]
  },
  {
   "cell_type": "code",
   "execution_count": 3,
   "id": "d1638b81",
   "metadata": {},
   "outputs": [
    {
     "name": "stdout",
     "output_type": "stream",
     "text": [
      "Found 2 value bets out of 3.\n",
      "The average edge on these value bets is 3.41%\n",
      "- Bet at odds 2.1 has an edge of 2.38%\n",
      "- Bet at odds 1.8 has an edge of 4.44%\n"
     ]
    }
   ],
   "source": [
    "import penaltyblog as pb\n",
    "\n",
    "# Analyzing three different bets from a weekend\n",
    "odds = [2.1, 3.5, 1.8]\n",
    "my_probs = [0.5, 0.25, 0.6] # Our estimated probabilities\n",
    "\n",
    "results = pb.betting.identify_value_bet(odds, my_probs)\n",
    "\n",
    "print(f\"Found {results.total_value_bets} value bets out of {len(odds)}.\")\n",
    "print(f\"The average edge on these value bets is {results.average_edge:.2%}\")\n",
    "\n",
    "# You can also inspect each individual result\n",
    "for bet_result in results.individual_results:\n",
    "    if bet_result.is_value_bet:\n",
    "        print(f\"- Bet at odds {bet_result.bookmaker_odds} has an edge of {bet_result.edge:.2%}\")"
   ]
  }
 ],
 "metadata": {
  "kernelspec": {
   "display_name": "venv",
   "language": "python",
   "name": "python3"
  },
  "language_info": {
   "codemirror_mode": {
    "name": "ipython",
    "version": 3
   },
   "file_extension": ".py",
   "mimetype": "text/x-python",
   "name": "python",
   "nbconvert_exporter": "python",
   "pygments_lexer": "ipython3",
   "version": "3.13.1"
  }
 },
 "nbformat": 4,
 "nbformat_minor": 5
}
