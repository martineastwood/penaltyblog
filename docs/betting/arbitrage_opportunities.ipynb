{
 "cells": [
  {
   "cell_type": "markdown",
   "id": "81215b75-f5f8-4c17-9cd4-08b1b0ed4234",
   "metadata": {},
   "source": [
    "# Finding Arbitrage Opportunities \n",
    "\n",
    "An arbitrage bet (or \"arb\") is a risk-free opportunity. It exists when you can bet on all outcomes of a single event across different bookmakers and guarantee a profit, because their odds are misaligned. These are rare but highly valuable.\n",
    "\n",
    "## The `find_arbitrage_opportunities` Function\n",
    "\n",
    "This function scans lists of odds from multiple bookmakers for the same event to find these risk-free opportunities.\n",
    "\n",
    "```python\n",
    "penaltyblog.betting.find_arbitrage_opportunities(\n",
    "    bookmaker_odds_list: List[List[float]],\n",
    "    outcome_labels: List[str] = None\n",
    ") -> ArbitrageResult\n",
    "```\n",
    "\n",
    "**Parameters**\n",
    "\n",
    "- `bookmaker_odds_list`: A list of lists. Each inner list represents one bookmaker's odds for all outcomes of an event.\n",
    "- `outcome_labels`: Optional names for the outcomes (e.g., [\"Home\", \"Away\"]).\n",
    "\n",
    "### Returns (`ArbitrageResult`)\n",
    "\n",
    "- `has_arbitrage` (`bool`): `True` if a risk-free opportunity exists.\n",
    "- `guaranteed_return` (`float`): The guaranteed profit as a percentage of your total stake.\n",
    "- `best_odds` (`List[float]`): The best odds found for each outcome across all bookmakers.\n",
    "- `best_bookmakers` (`List[int]`): The index of the bookmaker offering the best odds for each outcome.\n",
    "- `stake_percentages` (`List[float]`): The percentage of your total stake to place on each outcome to guarantee the profit.\n",
    "\n",
    "### Usage Example"
   ]
  },
  {
   "cell_type": "code",
   "execution_count": 6,
   "id": "4d86b9e3",
   "metadata": {},
   "outputs": [
    {
     "name": "stdout",
     "output_type": "stream",
     "text": [
      "Arbitrage opportunity found!\n",
      "Guaranteed Return on Investment: 7.43%\n",
      "--------------------\n",
      "Bet 34.65% on Home Win at odds 3.1 with Bookmaker 2\n",
      "Bet 30.69% on Draw at odds 3.5 with Bookmaker 1\n",
      "Bet 34.65% on Away Win at odds 3.1 with Bookmaker 1\n"
     ]
    }
   ],
   "source": [
    "import penaltyblog as pb\n",
    "\n",
    "# Odds for a soccer match (Home Win, Draw, Away Win) from three different bookmakers\n",
    "# Each inner list represents one bookmaker's odds for [Home, Draw, Away]\n",
    "odds_data = [\n",
    "    [2.80, 3.50, 3.10],  # Bookmaker 1\n",
    "    [3.10, 3.40, 2.90],  # Bookmaker 2\n",
    "    [3.00, 3.20, 3.00],  # Bookmaker 3\n",
    "]\n",
    "\n",
    "# Define the labels for the outcomes\n",
    "outcome_labels = [\"Home Win\", \"Draw\", \"Away Win\"]\n",
    "\n",
    "arb_result = pb.betting.find_arbitrage_opportunities(odds_data, outcome_labels)\n",
    "\n",
    "if arb_result.has_arbitrage:\n",
    "    print(\"Arbitrage opportunity found!\")\n",
    "    print(f\"Guaranteed Return on Investment: {arb_result.guaranteed_return:.2%}\")\n",
    "    print(\"-\" * 20)\n",
    "    \n",
    "    # The function tells you exactly where to bet and how much to stake\n",
    "    for i, label in enumerate(arb_result.outcome_labels):\n",
    "        stake_pct = arb_result.stake_percentages[i]\n",
    "        best_odd = arb_result.best_odds[i]\n",
    "        # Adding 1 to the index to make it human-readable (Bookmaker 1, 2, 3)\n",
    "        bookie_idx = arb_result.best_bookmakers[i] + 1\n",
    "        \n",
    "        print(f\"Bet {stake_pct:.2%} on {label} at odds {best_odd} with Bookmaker {bookie_idx}\")\n",
    "else:\n",
    "    print(\"No arbitrage opportunity found.\")"
   ]
  },
  {
   "cell_type": "markdown",
   "id": "60e63ed3",
   "metadata": {},
   "source": [
    "## Simple Expected Value Calculation\n",
    "\n",
    "If you don't need the full analysis from `identify_value_bet` and just want a quick Expected Value (EV) calculation, you can use this lightweight utility function.\n",
    "\n",
    "```python\n",
    "penaltyblog.betting.calculate_bet_value(\n",
    "    bookmaker_odds: float,\n",
    "    estimated_probability: float\n",
    ") -> float\n",
    "```"
   ]
  },
  {
   "cell_type": "code",
   "execution_count": 4,
   "id": "cd940b86",
   "metadata": {},
   "outputs": [
    {
     "name": "stdout",
     "output_type": "stream",
     "text": [
      "Expected Value (per £1 staked): £0.20\n"
     ]
    }
   ],
   "source": [
    "import penaltyblog as pb\n",
    "\n",
    "# 60% chance at odds of 2.0\n",
    "ev = pb.betting.calculate_bet_value(2.0, 0.6)\n",
    "print(f\"Expected Value (per £1 staked): £{ev:.2f}\")\n",
    "# Expected Value (per £1 staked): £0.20"
   ]
  }
 ],
 "metadata": {
  "kernelspec": {
   "display_name": "venv",
   "language": "python",
   "name": "python3"
  },
  "language_info": {
   "codemirror_mode": {
    "name": "ipython",
    "version": 3
   },
   "file_extension": ".py",
   "mimetype": "text/x-python",
   "name": "python",
   "nbconvert_exporter": "python",
   "pygments_lexer": "ipython3",
   "version": "3.13.1"
  }
 },
 "nbformat": 4,
 "nbformat_minor": 5
}
