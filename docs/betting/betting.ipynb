{
 "cells": [
  {
   "cell_type": "markdown",
   "id": "81215b75-f5f8-4c17-9cd4-08b1b0ed4234",
   "metadata": {},
   "source": [
    "# Betting\n",
    "\n",
    "This submodule provides a collection of tools for bet sizing and portfolio management. It includes functions for calculating arbitrage hedges to lock in profit and for determining optimal bet sizes using the Kelly Criterion.\n",
    "\n",
    "---\n",
    "\n",
    "## Arbitrage Hedging \n",
    "\n",
    "Arbitrage hedging is the practice of placing one or more bets on different outcomes of an event to lock in a guaranteed profit or minimize a potential loss, regardless of the result. This is often used when you have an existing bet and the odds have since moved in your favour.\n",
    "\n",
    "### `arbitrage_hedge()`\n",
    "\n",
    "This function calculates the required stake(s) for hedge bets to guarantee a specific profit or minimize your loss from one or more existing positions.\n",
    "\n",
    "```python\n",
    "penaltyblog.betting.arbitrage.arbitrage_hedge(\n",
    "    existing_stakes: List[float],\n",
    "    existing_odds: List[float],\n",
    "    hedge_odds: List[float],\n",
    "    target_profit: Optional[float] = None,\n",
    "    hedge_all: bool = True,\n",
    ") -> Tuple[List[float], float]\n",
    "```"
   ]
  },
  {
   "cell_type": "code",
   "execution_count": 1,
   "id": "1f931497-c1f9-4cb4-969a-058676e42a24",
   "metadata": {
    "tags": []
   },
   "outputs": [
    {
     "ename": "AttributeError",
     "evalue": "module 'penaltyblog' has no attribute 'betting'",
     "output_type": "error",
     "traceback": [
      "\u001b[31m---------------------------------------------------------------------------\u001b[39m",
      "\u001b[31mAttributeError\u001b[39m                            Traceback (most recent call last)",
      "\u001b[36mCell\u001b[39m\u001b[36m \u001b[39m\u001b[32mIn[1]\u001b[39m\u001b[32m, line 11\u001b[39m\n\u001b[32m      8\u001b[39m \u001b[38;5;66;03m# The current odds available for hedging have moved\u001b[39;00m\n\u001b[32m      9\u001b[39m new_odds = [\u001b[32m2.8\u001b[39m, \u001b[32m3.8\u001b[39m, \u001b[32m3.1\u001b[39m]\n\u001b[32m---> \u001b[39m\u001b[32m11\u001b[39m hedge_stakes, guaranteed_profit = \u001b[43mpb\u001b[49m\u001b[43m.\u001b[49m\u001b[43mbetting\u001b[49m.arbitrage.arbitrage_hedge(\n\u001b[32m     12\u001b[39m     existing_stakes=stakes,\n\u001b[32m     13\u001b[39m     existing_odds=old_odds,\n\u001b[32m     14\u001b[39m     hedge_odds=new_odds,\n\u001b[32m     15\u001b[39m )\n\u001b[32m     17\u001b[39m \u001b[38;5;28mprint\u001b[39m(\u001b[33mf\u001b[39m\u001b[33m\"\u001b[39m\u001b[33mHedge bets to place: [Home: $\u001b[39m\u001b[38;5;132;01m{\u001b[39;00mhedge_stakes[\u001b[32m0\u001b[39m]\u001b[38;5;132;01m:\u001b[39;00m\u001b[33m.2f\u001b[39m\u001b[38;5;132;01m}\u001b[39;00m\u001b[33m, Draw: $\u001b[39m\u001b[38;5;132;01m{\u001b[39;00mhedge_stakes[\u001b[32m1\u001b[39m]\u001b[38;5;132;01m:\u001b[39;00m\u001b[33m.2f\u001b[39m\u001b[38;5;132;01m}\u001b[39;00m\u001b[33m, Away: $\u001b[39m\u001b[38;5;132;01m{\u001b[39;00mhedge_stakes[\u001b[32m2\u001b[39m]\u001b[38;5;132;01m:\u001b[39;00m\u001b[33m.2f\u001b[39m\u001b[38;5;132;01m}\u001b[39;00m\u001b[33m]\u001b[39m\u001b[33m\"\u001b[39m)\n\u001b[32m     18\u001b[39m \u001b[38;5;28mprint\u001b[39m(\u001b[33mf\u001b[39m\u001b[33m\"\u001b[39m\u001b[33mGuaranteed profit: $\u001b[39m\u001b[38;5;132;01m{\u001b[39;00mguaranteed_profit\u001b[38;5;132;01m:\u001b[39;00m\u001b[33m.2f\u001b[39m\u001b[38;5;132;01m}\u001b[39;00m\u001b[33m\"\u001b[39m)\n",
      "\u001b[31mAttributeError\u001b[39m: module 'penaltyblog' has no attribute 'betting'"
     ]
    }
   ],
   "source": [
    "import penaltyblog as pb\n",
    "\n",
    "# Your existing bet: $50 on a Home Win at 3.5\n",
    "# Format: [Home, Draw, Away]\n",
    "stakes = [50, 0, 0]\n",
    "old_odds = [3.5, 3.4, 2.9]\n",
    "\n",
    "# The current odds available for hedging have moved\n",
    "new_odds = [2.8, 3.8, 3.1]\n",
    "\n",
    "hedge_stakes, guaranteed_profit = pb.betting.arbitrage.arbitrage_hedge(\n",
    "    existing_stakes=stakes,\n",
    "    existing_odds=old_odds,\n",
    "    hedge_odds=new_odds,\n",
    ")\n",
    "\n",
    "print(f\"Hedge bets to place: [Home: ${hedge_stakes[0]:.2f}, Draw: ${hedge_stakes[1]:.2f}, Away: ${hedge_stakes[2]:.2f}]\")\n",
    "print(f\"Guaranteed profit: ${guaranteed_profit:.2f}\")"
   ]
  }
 ],
 "metadata": {
  "kernelspec": {
   "display_name": "venv",
   "language": "python",
   "name": "python3"
  },
  "language_info": {
   "codemirror_mode": {
    "name": "ipython",
    "version": 3
   },
   "file_extension": ".py",
   "mimetype": "text/x-python",
   "name": "python",
   "nbconvert_exporter": "python",
   "pygments_lexer": "ipython3",
   "version": "3.13.1"
  }
 },
 "nbformat": 4,
 "nbformat_minor": 5
}
