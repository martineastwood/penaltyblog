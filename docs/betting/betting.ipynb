{
 "cells": [
  {
   "cell_type": "markdown",
   "id": "81215b75-f5f8-4c17-9cd4-08b1b0ed4234",
   "metadata": {},
   "source": [
    "# Betting\n",
    "\n",
    "This submodule provides a collection of tools for bet sizing and portfolio management. It includes functions for calculating arbitrage hedges to lock in profit and for determining optimal bet sizes using the Kelly Criterion.\n",
    "\n",
    "---\n",
    "\n",
    "## Arbitrage Hedging \n",
    "\n",
    "Arbitrage hedging is the practice of placing one or more bets on different outcomes of an event to lock in a guaranteed profit or minimize a potential loss, regardless of the result. This is often used when you have an existing bet and the odds have since moved in your favour.\n",
    "\n",
    "### `arbitrage_hedge()`\n",
    "\n",
    "This function calculates the required stake(s) for hedge bets to guarantee a specific profit or minimize your loss from one or more existing positions.\n",
    "\n",
    "```python\n",
    "penaltyblog.betting.arbitrage.arbitrage_hedge(\n",
    "    existing_stakes: List[float],\n",
    "    existing_odds: List[float],\n",
    "    hedge_odds: List[float],\n",
    "    target_profit: Optional[float] = None,\n",
    "    hedge_all: bool = True,\n",
    ") -> Tuple[List[float], float]\n",
    "```"
   ]
  },
  {
   "cell_type": "code",
   "execution_count": 1,
   "id": "1f931497-c1f9-4cb4-969a-058676e42a24",
   "metadata": {
    "tags": []
   },
   "outputs": [
    {
     "name": "stdout",
     "output_type": "stream",
     "text": [
      "Hedge bets to place: [Home: $28.06, Draw: $38.09, Away: $31.07]\n",
      "Guaranteed profit: $-50.90\n"
     ]
    }
   ],
   "source": [
    "import penaltyblog as pb\n",
    "\n",
    "# Your existing bet: $50 on a Home Win at 3.5\n",
    "# Format: [Home, Draw, Away]\n",
    "stakes = [50, 0, 0]\n",
    "old_odds = [3.5, 3.4, 2.9]\n",
    "\n",
    "# The current odds available for hedging have moved\n",
    "new_odds = [2.8, 3.8, 3.1]\n",
    "\n",
    "hedge_stakes, guaranteed_profit = pb.betting.arbitrage.arbitrage_hedge(\n",
    "    existing_stakes=stakes,\n",
    "    existing_odds=old_odds,\n",
    "    hedge_odds=new_odds,\n",
    ")\n",
    "\n",
    "print(f\"Hedge bets to place: [Home: ${hedge_stakes[0]:.2f}, Draw: ${hedge_stakes[1]:.2f}, Away: ${hedge_stakes[2]:.2f}]\")\n",
    "print(f\"Guaranteed profit: ${guaranteed_profit:.2f}\")"
   ]
  },
  {
   "cell_type": "code",
   "execution_count": null,
   "id": "d1638b81",
   "metadata": {},
   "outputs": [],
   "source": [
    "dir(pb)"
   ]
  },
  {
   "cell_type": "code",
   "execution_count": null,
   "id": "e3d20092",
   "metadata": {},
   "outputs": [],
   "source": []
  }
 ],
 "metadata": {
  "kernelspec": {
   "display_name": "venv",
   "language": "python",
   "name": "python3"
  },
  "language_info": {
   "codemirror_mode": {
    "name": "ipython",
    "version": 3
   },
   "file_extension": ".py",
   "mimetype": "text/x-python",
   "name": "python",
   "nbconvert_exporter": "python",
   "pygments_lexer": "ipython3",
   "version": "3.13.1"
  }
 },
 "nbformat": 4,
 "nbformat_minor": 5
}
