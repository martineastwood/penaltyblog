{
 "cells": [
  {
   "cell_type": "markdown",
   "id": "8a3dd9d5-c209-4106-9eb3-1ee0be86aece",
   "metadata": {},
   "source": [
    "# Implied Odds Probabilities (`implied`)\n",
    "\n",
    "This submodule provides a comprehensive toolkit for converting bookmaker odds into their underlying \"true\" probabilities. It achieves this by removing the bookmaker's margin (the overround) using various statistical methods.\n",
    "\n",
    "The primary entry point is the `calculate_implied()` function, which handles all calculations and returns a structured data object.\n",
    "\n",
    "---\n",
    "\n",
    "## Quick Start\n",
    "\n",
    "Here's a basic example of how to convert decimal odds into probabilities using the default `multiplicative` method."
   ]
  },
  {
   "cell_type": "code",
   "execution_count": 23,
   "id": "dfcdd59e",
   "metadata": {},
   "outputs": [
    {
     "name": "stdout",
     "output_type": "stream",
     "text": [
      "Probabilities: [0.35873803615739097, 0.4211272598369373, 0.22013470400567173]\n",
      "Margin: 0.0324\n",
      "Method Used: multiplicative\n"
     ]
    }
   ],
   "source": [
    "import penaltyblog as pb\n",
    "\n",
    "# Odds for a Home Win, Draw, and Away Win\n",
    "odds = [2.7, 2.3, 4.4]\n",
    "\n",
    "result = pb.implied.calculate_implied(odds)\n",
    "\n",
    "print(f\"Probabilities: {result.probabilities}\")\n",
    "print(f\"Margin: {result.margin:.4f}\")\n",
    "print(f\"Method Used: {result.method.value}\")"
   ]
  },
  {
   "cell_type": "markdown",
   "id": "78f654cf",
   "metadata": {},
   "source": [
    "---\n",
    "\n",
    "## Main Function\n",
    "\n",
    "All calculations are performed through this central function. It accepts various odds formats and allows you to specify the desired calculation method.\n",
    "\n",
    "```python\n",
    "penaltyblog.implied.calculate_implied(\n",
    "    odds: Union[List[float], List[str], OddsInput],\n",
    "    method: Union[str, ImpliedMethod] = ImpliedMethod.MULTIPLICATIVE,\n",
    "    odds_format: Union[str, OddsFormat] = OddsFormat.DECIMAL,\n",
    "    market_names: Optional[List[str]] = None,\n",
    ") -> ImpliedProbabilities\n",
    "```\n",
    "\n",
    "### Description\n",
    "\n",
    "Calculate implied probabilities from odds using the specified method.\n",
    "\n",
    "**Parameters**\n",
    "\n",
    "- **odds** (`List[float] | List[str] | OddsInput`): The odds to convert. Can be a list of values or an `OddsInput` object.\n",
    "- **method** (`str | ImpliedMethod, optional`): The method to use. Defaults to `\"multiplicative\"`.\n",
    "- **odds_format** (`str | OddsFormat, optional)`: The format of the provided odds. Defaults to `\"decimal\"`.\n",
    "- **market_names** (`List[str], optional)`: Names for each market outcome.\n",
    "\n",
    "**Returns**\n",
    "\n",
    "`ImpliedProbabilities`: A type-safe container with the calculated probabilities and metadata.\n",
    "\n",
    "---"
   ]
  },
  {
   "cell_type": "markdown",
   "id": "3991424e",
   "metadata": {},
   "source": [
    "## Data Models\n",
    "\n",
    "The submodule uses type-safe dataclasses for handling odds input and probability output. This ensures your code is clear, predictable, and less prone to errors.\n",
    "\n",
    "### OddsInput\n",
    "\n",
    "The `OddsInput` class is used to standardize various odds formats (Decimal, American, Fractional) before calculation. While it's often used internally, you can instantiate it directly.\n",
    "\n",
    "**Attributes**:\n",
    "\n",
    "- **odds**: The list of original odds.\n",
    "- **odds_format**: The format of the odds (e.g., `OddsFormat.DECIMAL`).\n",
    "- **market_names**: The names for each outcome.\n",
    "\n",
    "**Methods**:\n",
    "\n",
    "- `to_decimal()`: Converts the stored odds to decimal format.\n",
    "\n",
    "### ImpliedProbabilities Output\n",
    "\n",
    "The `ImpliedProbabilities` class is the return type for all calculations. It's a container holding the results and useful metadata.\n",
    "\n",
    "**Attributes**:\n",
    "\n",
    "- **probabilities**: A list of the calculated \"true\" probabilities.\n",
    "- **margin**: The original margin (overround) from the bookmaker's odds.\n",
    "- **method**: The method used for the calculation (e.g., `ImpliedMethod.SHIN`).\n",
    "- **market_names**: The names for each outcome.\n",
    "- **method_params**: A dictionary containing any special parameters returned by the method (e.g., Shin's `z` or Power's `k`).\n",
    "\n",
    "**Properties**:\n",
    "\n",
    "`probabilities_dict`: Returns the probabilities as a dictionary mapped to the market names.\n",
    "\n",
    "---"
   ]
  },
  {
   "cell_type": "markdown",
   "id": "b9cee58f",
   "metadata": {},
   "source": [
    "## Available Methods & Formats\n",
    "\n",
    "You can easily specify which calculation method to use and what format the input odds are in.\n",
    "\n",
    "### Calculation Methods\n",
    "\n",
    "The method parameter accepts a string or an `ImpliedMethod` enum member. Each method represents a different theory of how the bookmaker's margin is applied.\n",
    "\n",
    "- `MULTIPLICATIVE` (default)\n",
    "- `ADDITIVE`\n",
    "- `POWER`\n",
    "- `SHIN`\n",
    "- `DIFFERENTIAL_MARGIN_WEIGHTING`\n",
    "- `ODDS_RATIO`\n",
    "- `LOGARITHMIC`\n",
    "\n",
    "### Odds Formats\n",
    "\n",
    "The odds_format parameter accepts a string or an `OddsFormat` enum member.\n",
    "\n",
    "- `DECIMAL` (default)\n",
    "- `AMERICAN`\n",
    "- `FRACTIONAL`\n",
    "\n",
    "---"
   ]
  },
  {
   "cell_type": "markdown",
   "id": "d0d2458e",
   "metadata": {},
   "source": [
    "## Advanced Usage\n",
    "\n",
    "### Using Different Methods and Formats\n",
    "\n",
    "Here's how to calculate probabilities from American odds using `Shin's` method. This example also shows how to access method-specific parameters from the result."
   ]
  },
  {
   "cell_type": "code",
   "execution_count": 29,
   "id": "6f365740",
   "metadata": {},
   "outputs": [
    {
     "name": "stdout",
     "output_type": "stream",
     "text": [
      "Shin's Probabilities: [0.35934391959159157, 0.42324384818283234, 0.21741223222458853]\n",
      "Shin's z parameter: 0.0162\n"
     ]
    }
   ],
   "source": [
    "import penaltyblog as pb\n",
    "from penaltyblog.implied.models import ImpliedMethod, OddsFormat\n",
    "\n",
    "american_odds = [\"+170\", \"+130\", \"+340\"]\n",
    "market_names = [\"Home\", \"Draw\", \"Away\"]\n",
    "\n",
    "result = pb.implied.calculate_implied(\n",
    "    odds=american_odds,\n",
    "    method=ImpliedMethod.SHIN,\n",
    "    odds_format=OddsFormat.AMERICAN,\n",
    "    market_names=market_names,\n",
    ")\n",
    "\n",
    "print(f\"Shin's Probabilities: {result.probabilities}\")\n",
    "\n",
    "# Access method-specific parameters returned by some methods\n",
    "if result.method_params and \"z\" in result.method_params:\n",
    "    print(f\"Shin's z parameter: {result.method_params['z']:.4f}\")"
   ]
  }
 ],
 "metadata": {
  "kernelspec": {
   "display_name": "venv",
   "language": "python",
   "name": "python3"
  },
  "language_info": {
   "codemirror_mode": {
    "name": "ipython",
    "version": 3
   },
   "file_extension": ".py",
   "mimetype": "text/x-python",
   "name": "python",
   "nbconvert_exporter": "python",
   "pygments_lexer": "ipython3",
   "version": "3.13.1"
  }
 },
 "nbformat": 4,
 "nbformat_minor": 5
}
